{
 "cells": [
  {
   "cell_type": "code",
   "execution_count": 1,
   "metadata": {},
   "outputs": [],
   "source": [
    "import pandas as pd\n",
    "import numpy as np\n",
    "import matplotlib.pyplot as plt\n",
    "import seaborn as sns\n",
    "%matplotlib inline\n",
    "import timeit"
   ]
  },
  {
   "cell_type": "code",
   "execution_count": 2,
   "metadata": {},
   "outputs": [],
   "source": [
    "#from bokeh.plotting import Bar, output_file, show\n",
    "from bokeh.plotting import figure\n",
    "from bokeh.io import output_file,show\n",
    "from bokeh.models.ranges import Range1d\n",
    "from bokeh.palettes import Spectral11, colorblind, Inferno, BuGn, brewer\n",
    "from bokeh.models import HoverTool, value, LabelSet, Legend, ColumnDataSource,LinearColorMapper,BasicTicker, PrintfTickFormatter, ColorBar\n",
    "import datetime\n",
    "\n",
    "from bokeh.models import  ColumnDataSource, HoverTool\n",
    "from bokeh.models.glyphs import Line as Line_glyph"
   ]
  },
  {
   "cell_type": "markdown",
   "metadata": {},
   "source": [
    "# Reading Amazon reviews CSV file"
   ]
  },
  {
   "cell_type": "code",
   "execution_count": 55,
   "metadata": {},
   "outputs": [],
   "source": [
    "amazon_data= pd.read_csv(\"Reviews.csv\")"
   ]
  },
  {
   "cell_type": "code",
   "execution_count": 54,
   "metadata": {},
   "outputs": [
    {
     "data": {
      "text/html": [
       "<div>\n",
       "<style scoped>\n",
       "    .dataframe tbody tr th:only-of-type {\n",
       "        vertical-align: middle;\n",
       "    }\n",
       "\n",
       "    .dataframe tbody tr th {\n",
       "        vertical-align: top;\n",
       "    }\n",
       "\n",
       "    .dataframe thead th {\n",
       "        text-align: right;\n",
       "    }\n",
       "</style>\n",
       "<table border=\"1\" class=\"dataframe\">\n",
       "  <thead>\n",
       "    <tr style=\"text-align: right;\">\n",
       "      <th></th>\n",
       "      <th>Id</th>\n",
       "      <th>ProductId</th>\n",
       "      <th>UserId</th>\n",
       "      <th>ProfileName</th>\n",
       "      <th>Score</th>\n",
       "      <th>Time</th>\n",
       "      <th>Summary</th>\n",
       "      <th>Text</th>\n",
       "      <th>Helpfulness</th>\n",
       "    </tr>\n",
       "  </thead>\n",
       "  <tbody>\n",
       "    <tr>\n",
       "      <th>0</th>\n",
       "      <td>1</td>\n",
       "      <td>B001E4KFG0</td>\n",
       "      <td>A3SGXH7AUHU8GW</td>\n",
       "      <td>delmartian</td>\n",
       "      <td>5</td>\n",
       "      <td>2011-04-27</td>\n",
       "      <td>Good Quality Dog Food</td>\n",
       "      <td>I have bought several of the Vitality canned d...</td>\n",
       "      <td>1.0</td>\n",
       "    </tr>\n",
       "    <tr>\n",
       "      <th>1</th>\n",
       "      <td>2</td>\n",
       "      <td>B00813GRG4</td>\n",
       "      <td>A1D87F6ZCVE5NK</td>\n",
       "      <td>dll pa</td>\n",
       "      <td>1</td>\n",
       "      <td>2012-09-07</td>\n",
       "      <td>Not as Advertised</td>\n",
       "      <td>Product arrived labeled as Jumbo Salted Peanut...</td>\n",
       "      <td>0.0</td>\n",
       "    </tr>\n",
       "    <tr>\n",
       "      <th>2</th>\n",
       "      <td>3</td>\n",
       "      <td>B000LQOCH0</td>\n",
       "      <td>ABXLMWJIXXAIN</td>\n",
       "      <td>Natalia Corres \"Natalia Corres\"</td>\n",
       "      <td>4</td>\n",
       "      <td>2008-08-18</td>\n",
       "      <td>\"Delight\" says it all</td>\n",
       "      <td>This is a confection that has been around a fe...</td>\n",
       "      <td>1.0</td>\n",
       "    </tr>\n",
       "    <tr>\n",
       "      <th>3</th>\n",
       "      <td>4</td>\n",
       "      <td>B000UA0QIQ</td>\n",
       "      <td>A395BORC6FGVXV</td>\n",
       "      <td>Karl</td>\n",
       "      <td>2</td>\n",
       "      <td>2011-06-13</td>\n",
       "      <td>Cough Medicine</td>\n",
       "      <td>If you are looking for the secret ingredient i...</td>\n",
       "      <td>1.0</td>\n",
       "    </tr>\n",
       "    <tr>\n",
       "      <th>4</th>\n",
       "      <td>5</td>\n",
       "      <td>B006K2ZZ7K</td>\n",
       "      <td>A1UQRSCLF8GW1T</td>\n",
       "      <td>Michael D. Bigham \"M. Wassir\"</td>\n",
       "      <td>5</td>\n",
       "      <td>2012-10-21</td>\n",
       "      <td>Great taffy</td>\n",
       "      <td>Great taffy at a great price.  There was a wid...</td>\n",
       "      <td>0.0</td>\n",
       "    </tr>\n",
       "    <tr>\n",
       "      <th>5</th>\n",
       "      <td>6</td>\n",
       "      <td>B006K2ZZ7K</td>\n",
       "      <td>ADT0SRK1MGOEU</td>\n",
       "      <td>Twoapennything</td>\n",
       "      <td>4</td>\n",
       "      <td>2012-07-12</td>\n",
       "      <td>Nice Taffy</td>\n",
       "      <td>I got a wild hair for taffy and ordered this f...</td>\n",
       "      <td>0.0</td>\n",
       "    </tr>\n",
       "    <tr>\n",
       "      <th>6</th>\n",
       "      <td>7</td>\n",
       "      <td>B006K2ZZ7K</td>\n",
       "      <td>A1SP2KVKFXXRU1</td>\n",
       "      <td>David C. Sullivan</td>\n",
       "      <td>5</td>\n",
       "      <td>2012-06-20</td>\n",
       "      <td>Great!  Just as good as the expensive brands!</td>\n",
       "      <td>This saltwater taffy had great flavors and was...</td>\n",
       "      <td>0.0</td>\n",
       "    </tr>\n",
       "    <tr>\n",
       "      <th>7</th>\n",
       "      <td>8</td>\n",
       "      <td>B006K2ZZ7K</td>\n",
       "      <td>A3JRGQVEQN31IQ</td>\n",
       "      <td>Pamela G. Williams</td>\n",
       "      <td>5</td>\n",
       "      <td>2012-05-03</td>\n",
       "      <td>Wonderful, tasty taffy</td>\n",
       "      <td>This taffy is so good.  It is very soft and ch...</td>\n",
       "      <td>0.0</td>\n",
       "    </tr>\n",
       "    <tr>\n",
       "      <th>8</th>\n",
       "      <td>9</td>\n",
       "      <td>B000E7L2R4</td>\n",
       "      <td>A1MZYO9TZK0BBI</td>\n",
       "      <td>R. James</td>\n",
       "      <td>5</td>\n",
       "      <td>2011-11-23</td>\n",
       "      <td>Yay Barley</td>\n",
       "      <td>Right now I'm mostly just sprouting this so my...</td>\n",
       "      <td>1.0</td>\n",
       "    </tr>\n",
       "    <tr>\n",
       "      <th>9</th>\n",
       "      <td>10</td>\n",
       "      <td>B00171APVA</td>\n",
       "      <td>A21BT40VZCCYT4</td>\n",
       "      <td>Carol A. Reed</td>\n",
       "      <td>5</td>\n",
       "      <td>2012-10-26</td>\n",
       "      <td>Healthy Dog Food</td>\n",
       "      <td>This is a very healthy dog food. Good for thei...</td>\n",
       "      <td>0.0</td>\n",
       "    </tr>\n",
       "  </tbody>\n",
       "</table>\n",
       "</div>"
      ],
      "text/plain": [
       "   Id   ProductId          UserId                      ProfileName  Score  \\\n",
       "0   1  B001E4KFG0  A3SGXH7AUHU8GW                       delmartian      5   \n",
       "1   2  B00813GRG4  A1D87F6ZCVE5NK                           dll pa      1   \n",
       "2   3  B000LQOCH0   ABXLMWJIXXAIN  Natalia Corres \"Natalia Corres\"      4   \n",
       "3   4  B000UA0QIQ  A395BORC6FGVXV                             Karl      2   \n",
       "4   5  B006K2ZZ7K  A1UQRSCLF8GW1T    Michael D. Bigham \"M. Wassir\"      5   \n",
       "5   6  B006K2ZZ7K   ADT0SRK1MGOEU                   Twoapennything      4   \n",
       "6   7  B006K2ZZ7K  A1SP2KVKFXXRU1                David C. Sullivan      5   \n",
       "7   8  B006K2ZZ7K  A3JRGQVEQN31IQ               Pamela G. Williams      5   \n",
       "8   9  B000E7L2R4  A1MZYO9TZK0BBI                         R. James      5   \n",
       "9  10  B00171APVA  A21BT40VZCCYT4                    Carol A. Reed      5   \n",
       "\n",
       "        Time                                        Summary  \\\n",
       "0 2011-04-27                          Good Quality Dog Food   \n",
       "1 2012-09-07                              Not as Advertised   \n",
       "2 2008-08-18                          \"Delight\" says it all   \n",
       "3 2011-06-13                                 Cough Medicine   \n",
       "4 2012-10-21                                    Great taffy   \n",
       "5 2012-07-12                                     Nice Taffy   \n",
       "6 2012-06-20  Great!  Just as good as the expensive brands!   \n",
       "7 2012-05-03                         Wonderful, tasty taffy   \n",
       "8 2011-11-23                                     Yay Barley   \n",
       "9 2012-10-26                               Healthy Dog Food   \n",
       "\n",
       "                                                Text  Helpfulness  \n",
       "0  I have bought several of the Vitality canned d...          1.0  \n",
       "1  Product arrived labeled as Jumbo Salted Peanut...          0.0  \n",
       "2  This is a confection that has been around a fe...          1.0  \n",
       "3  If you are looking for the secret ingredient i...          1.0  \n",
       "4  Great taffy at a great price.  There was a wid...          0.0  \n",
       "5  I got a wild hair for taffy and ordered this f...          0.0  \n",
       "6  This saltwater taffy had great flavors and was...          0.0  \n",
       "7  This taffy is so good.  It is very soft and ch...          0.0  \n",
       "8  Right now I'm mostly just sprouting this so my...          1.0  \n",
       "9  This is a very healthy dog food. Good for thei...          0.0  "
      ]
     },
     "execution_count": 54,
     "metadata": {},
     "output_type": "execute_result"
    }
   ],
   "source": [
    "amazon_data.head(10)"
   ]
  },
  {
   "cell_type": "code",
   "execution_count": 53,
   "metadata": {},
   "outputs": [
    {
     "name": "stdout",
     "output_type": "stream",
     "text": [
      "74258\n"
     ]
    }
   ],
   "source": [
    "print(len(amazon_data['ProductId'].value_counts()))"
   ]
  },
  {
   "cell_type": "code",
   "execution_count": 4,
   "metadata": {},
   "outputs": [
    {
     "data": {
      "text/plain": [
       "568454"
      ]
     },
     "execution_count": 4,
     "metadata": {},
     "output_type": "execute_result"
    }
   ],
   "source": [
    "len(amazon_data)"
   ]
  },
  {
   "cell_type": "code",
   "execution_count": 8,
   "metadata": {},
   "outputs": [],
   "source": [
    "# selecting only relevant field for sentimental analysis\n",
    "data=amazon_data.loc[:,['Summary','Score','ProductId','HelpfulnessNumerator','HelpfulnessDenominator','Text' ]]"
   ]
  },
  {
   "cell_type": "code",
   "execution_count": 6,
   "metadata": {},
   "outputs": [
    {
     "data": {
      "text/plain": [
       "Summary                   27\n",
       "Score                      0\n",
       "ProductId                  0\n",
       "HelpfulnessNumerator       0\n",
       "HelpfulnessDenominator     0\n",
       "Text                       0\n",
       "dtype: int64"
      ]
     },
     "execution_count": 6,
     "metadata": {},
     "output_type": "execute_result"
    }
   ],
   "source": [
    "# checking any null values\n",
    "data.isnull().sum()"
   ]
  },
  {
   "cell_type": "code",
   "execution_count": 7,
   "metadata": {},
   "outputs": [
    {
     "data": {
      "text/plain": [
       "Score\n",
       "1     52268\n",
       "2     29769\n",
       "3     42640\n",
       "4     80655\n",
       "5    363122\n",
       "Name: Text, dtype: int64"
      ]
     },
     "execution_count": 7,
     "metadata": {},
     "output_type": "execute_result"
    }
   ],
   "source": [
    "# total reviews for every score\n",
    "groupbyScore=data.groupby('Score')['Text']\n",
    "groupbyScore.count()"
   ]
  },
  {
   "cell_type": "code",
   "execution_count": 9,
   "metadata": {},
   "outputs": [
    {
     "data": {
      "text/plain": [
       "<matplotlib.axes._subplots.AxesSubplot at 0x2079e063be0>"
      ]
     },
     "execution_count": 9,
     "metadata": {},
     "output_type": "execute_result"
    },
    {
     "data": {
      "image/png": "[encoded data removed]",
      "text/plain": [
       "<Figure size 432x288 with 1 Axes>"
      ]
     },
     "metadata": {
      "needs_background": "light"
     },
     "output_type": "display_data"
    }
   ],
   "source": [
    "#count plot for Score\n",
    "sns.countplot(x='Score',data=data)"
   ]
  },
  {
   "cell_type": "code",
   "execution_count": 9,
   "metadata": {},
   "outputs": [
    {
     "data": {
      "text/plain": [
       "3                 Cough Medicine\n",
       "16                    poor taste\n",
       "67         Taste is not so good.\n",
       "74               nothing special\n",
       "110    Low Carb Angel Food Puffs\n",
       "131                   Not for me\n",
       "146       BROKEN BOTTLE BOTTOMS!\n",
       "200               Altoids Smalls\n",
       "212       Nearly killed the cats\n",
       "224               Not a real tea\n",
       "Name: Summary, dtype: object"
      ]
     },
     "execution_count": 9,
     "metadata": {},
     "output_type": "execute_result"
    }
   ],
   "source": [
    "# let's look at some of the reviews(summary) for Score 2\n",
    "data[data['Score']==2]['Summary'].head(10)\n",
    "# we observe that customers giving score as 2 have negative reviews"
   ]
  },
  {
   "cell_type": "code",
   "execution_count": 10,
   "metadata": {},
   "outputs": [
    {
     "data": {
      "text/plain": [
       "45                                        Hearty Oatmeal\n",
       "47                                                 Mushy\n",
       "49                                            Same stuff\n",
       "53                                        not ass kickin\n",
       "60                       Better price for this at Target\n",
       "68     How much would you pay for a bag of chocolate ...\n",
       "78                            Order only in cold weather\n",
       "83                         Natural Balance Lamb and Rice\n",
       "84                             INCREASED MY DOGS ITCHING\n",
       "106                                        disappointing\n",
       "Name: Summary, dtype: object"
      ]
     },
     "execution_count": 10,
     "metadata": {},
     "output_type": "execute_result"
    }
   ],
   "source": [
    "# let's look at some of the reviews(summary) for Score 3\n",
    "data[data['Score']==3]['Summary'].head(10)\n",
    "# we observe that customers giving score as 3 are neutral"
   ]
  },
  {
   "cell_type": "code",
   "execution_count": 11,
   "metadata": {},
   "outputs": [
    {
     "data": {
      "text/plain": [
       "2                                 \"Delight\" says it all\n",
       "5                                            Nice Taffy\n",
       "13                                    fresh and greasy!\n",
       "27                          Great Bargain for the Price\n",
       "32                         Best of the Instant Oatmeals\n",
       "33                                         Good Instant\n",
       "35                                           satisfying\n",
       "38                        GOOD WAY TO START THE DAY....\n",
       "48    Very good but next time I won't order the Vari...\n",
       "52             You'll go nuts over Ass-Kickin' Peanuts.\n",
       "Name: Summary, dtype: object"
      ]
     },
     "execution_count": 11,
     "metadata": {},
     "output_type": "execute_result"
    }
   ],
   "source": [
    "# let's look at some of the reviews for Score 4\n",
    "data[data['Score']==4]['Summary'].head(10)\n",
    "# we observe that customers giving score as 4 are happy with the product"
   ]
  },
  {
   "cell_type": "code",
   "execution_count": 12,
   "metadata": {},
   "outputs": [
    {
     "data": {
      "text/plain": [
       "0                                 Good Quality Dog Food\n",
       "4                                           Great taffy\n",
       "6         Great!  Just as good as the expensive brands!\n",
       "7                                Wonderful, tasty taffy\n",
       "8                                            Yay Barley\n",
       "9                                      Healthy Dog Food\n",
       "10                      The Best Hot Sauce in the World\n",
       "11    My cats LOVE this \"diet\" food better than thei...\n",
       "14                         Strawberry Twizzlers - Yummy\n",
       "15             Lots of twizzlers, just what you expect.\n",
       "Name: Summary, dtype: object"
      ]
     },
     "execution_count": 12,
     "metadata": {},
     "output_type": "execute_result"
    }
   ],
   "source": [
    "# let's look at some of the reviews for Score 5\n",
    "data[data['Score']==5]['Summary'].head(10)\n",
    "# we observe that customers giving score as 5 are ssatisfied with the product"
   ]
  },
  {
   "cell_type": "code",
   "execution_count": 10,
   "metadata": {},
   "outputs": [],
   "source": [
    "#we will perform sentimental analysis on positive and negative reviews\n",
    "# removing neutral ones\n",
    "data=data[data['Score']!=3]"
   ]
  },
  {
   "cell_type": "code",
   "execution_count": 11,
   "metadata": {},
   "outputs": [],
   "source": [
    "# adding new column sentiments based on Score given by customer\n",
    "data[\"Sentiment\"] = data[\"Score\"].apply(lambda score: \"positive\" if score > 3 else \"negative\")\n",
    "#df[\"Usefulness\"] = (df[\"HelpfulnessNumerator\"]/df[\"HelpfulnessDenominator\"]).apply(lambda n: \"useful\" if n > 0.8 else \"useless\")"
   ]
  },
  {
   "cell_type": "code",
   "execution_count": 12,
   "metadata": {},
   "outputs": [
    {
     "data": {
      "image/png": "[encoded data removed]",
      "text/plain": [
       "<Figure size 432x288 with 1 Axes>"
      ]
     },
     "metadata": {
      "needs_background": "light"
     },
     "output_type": "display_data"
    }
   ],
   "source": [
    "#Count plot of total positive and b=negative reviews\n",
    "k=sns.countplot(x='Sentiment',data=data)"
   ]
  },
  {
   "cell_type": "markdown",
   "metadata": {},
   "source": [
    "# Text Processing"
   ]
  },
  {
   "cell_type": "code",
   "execution_count": 13,
   "metadata": {},
   "outputs": [],
   "source": [
    "#assigning new dimension to each word and work with word counts\n",
    "#text processing\n",
    "#importing \n",
    "import string\n",
    "import re\n",
    "string.punctuation\n",
    "from nltk.corpus import stopwords"
   ]
  },
  {
   "cell_type": "code",
   "execution_count": 14,
   "metadata": {},
   "outputs": [],
   "source": [
    "# creating cleanup function\n",
    "# removing special character and trailing spaces\n",
    "cleanup_re = re.compile('[^a-z]+')\n",
    "def cleanup(sentence):\n",
    "    sentence = sentence.lower()\n",
    "    sentence = cleanup_re.sub(' ', sentence).strip()\n",
    "    return sentence"
   ]
  },
  {
   "cell_type": "code",
   "execution_count": 15,
   "metadata": {},
   "outputs": [],
   "source": [
    "data['Text_Clean']=data['Text'].apply(cleanup)"
   ]
  },
  {
   "cell_type": "code",
   "execution_count": 16,
   "metadata": {},
   "outputs": [
    {
     "name": "stderr",
     "output_type": "stream",
     "text": [
      "C:\\Users\\Public\\Anaconda3\\lib\\site-packages\\ipykernel_launcher.py:4: SettingWithCopyWarning: \n",
      "A value is trying to be set on a copy of a slice from a DataFrame.\n",
      "Try using .loc[row_indexer,col_indexer] = value instead\n",
      "\n",
      "See the caveats in the documentation: http://pandas.pydata.org/pandas-docs/stable/indexing.html#indexing-view-versus-copy\n",
      "  after removing the cwd from sys.path.\n"
     ]
    }
   ],
   "source": [
    "# we will apply the same cleanup on Summary\n",
    "# first we need to remove Nan values from Summary Column\n",
    "df=data.dropna(subset=['Summary'])\n",
    "df['Summary_Clean']=df['Summary'].apply(cleanup)"
   ]
  },
  {
   "cell_type": "code",
   "execution_count": 17,
   "metadata": {},
   "outputs": [
    {
     "data": {
      "text/plain": [
       "'good quality dog food'"
      ]
     },
     "execution_count": 17,
     "metadata": {},
     "output_type": "execute_result"
    }
   ],
   "source": [
    "#looking at clean summary\n",
    "df['Summary_Clean'][0]"
   ]
  },
  {
   "cell_type": "code",
   "execution_count": 18,
   "metadata": {},
   "outputs": [
    {
     "data": {
      "text/plain": [
       "'i have bought several of the vitality canned dog food products and have found them all to be of good quality the product looks more like a stew than a processed meat and it smells better my labrador is finicky and she appreciates this product better than most'"
      ]
     },
     "execution_count": 18,
     "metadata": {},
     "output_type": "execute_result"
    }
   ],
   "source": [
    "# Looking at Clean text\n",
    "data['Text_Clean'][0]"
   ]
  },
  {
   "cell_type": "markdown",
   "metadata": {},
   "source": [
    "# Creating Wordcloud for the reviews given"
   ]
  },
  {
   "cell_type": "code",
   "execution_count": 19,
   "metadata": {},
   "outputs": [],
   "source": [
    "#!pip install wordcloud\n",
    "from wordcloud import WordCloud,STOPWORDS\n",
    "stopwords = set(STOPWORDS)\n",
    "def show_wordcloud(data, title = None):\n",
    "    wordcloud = WordCloud(\n",
    "        background_color='white',\n",
    "        stopwords=stopwords,\n",
    "        max_words=200,\n",
    "        max_font_size=40, \n",
    "        scale=3,\n",
    "        random_state=1\n",
    "    ).generate(str(data))\n",
    "    fig = plt.figure(1, figsize=(8, 8))\n",
    "    plt.axis('off')\n",
    "    if title:\n",
    "     fig.suptitle(title, fontsize=20)\n",
    "     fig.subplots_adjust(top=2.3)\n",
    "    plt.imshow(wordcloud)\n",
    "    plt.show()"
   ]
  },
  {
   "cell_type": "code",
   "execution_count": 20,
   "metadata": {},
   "outputs": [
    {
     "data": {
      "image/png": "[encoded data removed]",
      "text/plain": [
       "<Figure size 576x576 with 1 Axes>"
      ]
     },
     "metadata": {
      "needs_background": "light"
     },
     "output_type": "display_data"
    }
   ],
   "source": [
    "show_wordcloud(df[(df['Score']==1) | (df['Score']==2)]['Summary_Clean'], title=\"Low Scoring words\")"
   ]
  },
  {
   "cell_type": "code",
   "execution_count": 21,
   "metadata": {},
   "outputs": [
    {
     "data": {
      "image/png": "[encoded data removed]",
      "text/plain": [
       "<Figure size 576x576 with 1 Axes>"
      ]
     },
     "metadata": {
      "needs_background": "light"
     },
     "output_type": "display_data"
    }
   ],
   "source": [
    "show_wordcloud(df[(df['Score']==4) | (df['Score']==5)]['Summary_Clean'], title=\"High Scoring words\")"
   ]
  },
  {
   "cell_type": "markdown",
   "metadata": {},
   "source": [
    "# Feature Extraction from Text\n",
    "## Using TfIDF(Term Freq Inverse Doc Frequency)\n"
   ]
  },
  {
   "cell_type": "code",
   "execution_count": 22,
   "metadata": {},
   "outputs": [],
   "source": [
    "from sklearn.feature_extraction.text import TfidfVectorizer\n",
    "from nltk import ngrams"
   ]
  },
  {
   "cell_type": "code",
   "execution_count": 23,
   "metadata": {},
   "outputs": [],
   "source": [
    "tfidf_transformer = TfidfVectorizer(ngram_range=(1,2), stop_words='english')\n",
    "reviews_tfidf = tfidf_transformer.fit_transform(data['Text_Clean'])"
   ]
  },
  {
   "cell_type": "code",
   "execution_count": 24,
   "metadata": {},
   "outputs": [
    {
     "data": {
      "text/plain": [
       "(525814, 3840528)"
      ]
     },
     "execution_count": 24,
     "metadata": {},
     "output_type": "execute_result"
    }
   ],
   "source": [
    "reviews_tfidf.shape"
   ]
  },
  {
   "cell_type": "code",
   "execution_count": 27,
   "metadata": {},
   "outputs": [
    {
     "name": "stdout",
     "output_type": "stream",
     "text": [
      "aaaaaaaaaaaa buy\n"
     ]
    }
   ],
   "source": [
    "print(tfidf_transformer.get_feature_names()[100])"
   ]
  },
  {
   "cell_type": "code",
   "execution_count": null,
   "metadata": {},
   "outputs": [],
   "source": [
    "#print(reviews_tfidf.toarray())"
   ]
  },
  {
   "cell_type": "code",
   "execution_count": 28,
   "metadata": {},
   "outputs": [],
   "source": [
    "X=reviews_tfidf\n",
    "y= data['Sentiment']"
   ]
  },
  {
   "cell_type": "markdown",
   "metadata": {},
   "source": [
    "# Split the Data Into Training and Testing Prior to Training"
   ]
  },
  {
   "cell_type": "code",
   "execution_count": 29,
   "metadata": {},
   "outputs": [],
   "source": [
    "from sklearn.model_selection import train_test_split\n",
    "X_train, X_test, y_train, y_test = train_test_split(X, y, test_size=0.2)"
   ]
  },
  {
   "cell_type": "code",
   "execution_count": 30,
   "metadata": {},
   "outputs": [],
   "source": [
    "from sklearn.metrics import classification_report, confusion_matrix\n",
    "from sklearn import metrics"
   ]
  },
  {
   "cell_type": "markdown",
   "metadata": {},
   "source": [
    "# Function to train our data\n"
   ]
  },
  {
   "cell_type": "code",
   "execution_count": 31,
   "metadata": {},
   "outputs": [],
   "source": [
    "def model_fit(model):\n",
    "    modelFit=model.fit(X_train, y_train)\n",
    "    y_predict_test = model.predict(X_test)\n",
    "    cm = confusion_matrix(y_test, y_predict_test)\n",
    "    sns.heatmap(cm, annot=True)\n",
    "    print(\"Accuracy:\",metrics.accuracy_score(y_test, y_predict_test))\n",
    "    \n",
    "    w = tfidf_transformer.get_feature_names()\n",
    "    coef = modelFit.coef_.tolist()[0]\n",
    "    coeff_df = pd.DataFrame({'Word' : w, 'Coefficient' : coef})\n",
    "    coeff_df = coeff_df.sort_values(['Coefficient', 'Word'], ascending=False)\n",
    "    \n",
    "    print('')\n",
    "    print('-Top 20 positive-')\n",
    "    print(coeff_df.head(20).to_string(index=False))\n",
    "    print('')\n",
    "    print('-Top 20 negative-')      \n",
    "    print(coeff_df.tail(30).to_string(index=False))\n",
    "    return y_predict_test"
   ]
  },
  {
   "cell_type": "markdown",
   "metadata": {},
   "source": [
    "# Aplying Naive Byes"
   ]
  },
  {
   "cell_type": "code",
   "execution_count": 32,
   "metadata": {},
   "outputs": [
    {
     "name": "stdout",
     "output_type": "stream",
     "text": [
      "Accuracy: 0.8488346661848749\n",
      "\n",
      "-Top 20 positive-\n",
      "Word  Coefficient\n",
      "     br    -6.594892\n",
      "  great    -7.150853\n",
      " coffee    -7.210164\n",
      "   good    -7.226362\n",
      "   like    -7.272002\n",
      "    tea    -7.326792\n",
      "   love    -7.357351\n",
      "  br br    -7.455553\n",
      "product    -7.493436\n",
      "  taste    -7.505628\n",
      " flavor    -7.516762\n",
      "   just    -7.533810\n",
      "   food    -7.680300\n",
      "   best    -7.736693\n",
      " amazon    -7.771790\n",
      " really    -7.808635\n",
      "  price    -7.823794\n",
      "    use    -7.921955\n",
      "     ve    -7.935209\n",
      "   time    -7.947087\n",
      "\n",
      "-Top 20 negative-\n",
      "Word  Coefficient\n",
      "                   aaaaallll   -15.649048\n",
      "aaaaahhhhhhhhhhhhhhhh angels   -15.649048\n",
      "       aaaaahhhhhhhhhhhhhhhh   -15.649048\n",
      "    aaaaaahhhhhyaaaaaa fired   -15.649048\n",
      "          aaaaaahhhhhyaaaaaa   -15.649048\n",
      "           aaaaaahhhhh leave   -15.649048\n",
      "                 aaaaaahhhhh   -15.649048\n",
      "       aaaaaaarrrrrggghhh br   -15.649048\n",
      "          aaaaaaarrrrrggghhh   -15.649048\n",
      "               aaaaaaaaagghh   -15.649048\n",
      "               aaaaaaaaaaaaa   -15.649048\n",
      "                 aaaaa start   -15.649048\n",
      "                     aaa job   -15.649048\n",
      "               aaa excellent   -15.649048\n",
      "                     aaa don   -15.649048\n",
      "                     aa year   -15.649048\n",
      "                 aa superior   -15.649048\n",
      "                   aa smooth   -15.649048\n",
      "                     aa said   -15.649048\n",
      "                   aa really   -15.649048\n",
      "                  aa quality   -15.649048\n",
      "                   aa medium   -15.649048\n",
      "                    aa known   -15.649048\n",
      "                    aa group   -15.649048\n",
      "                   aa ground   -15.649048\n",
      "               aa expiration   -15.649048\n",
      "                      aa big   -15.649048\n",
      "                aa batteries   -15.649048\n",
      "                    aa aroma   -15.649048\n",
      "                   aa amazon   -15.649048\n"
     ]
    },
    {
     "data": {
      "image/png": "[encoded data removed]",
      "text/plain": [
       "<Figure size 432x288 with 2 Axes>"
      ]
     },
     "metadata": {
      "needs_background": "light"
     },
     "output_type": "display_data"
    }
   ],
   "source": [
    "from sklearn.naive_bayes import MultinomialNB\n",
    "\n",
    "NB_classifier = MultinomialNB()\n",
    "prediction=model_fit(NB_classifier)"
   ]
  },
  {
   "cell_type": "markdown",
   "metadata": {},
   "source": [
    "# Applying Logistic Regression"
   ]
  },
  {
   "cell_type": "code",
   "execution_count": 37,
   "metadata": {},
   "outputs": [
    {
     "name": "stderr",
     "output_type": "stream",
     "text": [
      "C:\\Users\\Kulbeer Singh\\anaconda3\\lib\\site-packages\\sklearn\\linear_model\\_logistic.py:940: ConvergenceWarning: lbfgs failed to converge (status=1):\n",
      "STOP: TOTAL NO. of ITERATIONS REACHED LIMIT.\n",
      "\n",
      "Increase the number of iterations (max_iter) or scale the data as shown in:\n",
      "    https://scikit-learn.org/stable/modules/preprocessing.html\n",
      "Please also refer to the documentation for alternative solver options:\n",
      "    https://scikit-learn.org/stable/modules/linear_model.html#logistic-regression\n",
      "  extra_warning_msg=_LOGISTIC_SOLVER_CONVERGENCE_MSG)\n"
     ]
    },
    {
     "name": "stdout",
     "output_type": "stream",
     "text": [
      "Accuracy: 0.945760391012048\n",
      "\n",
      "-Top 20 positive-\n",
      "      Word  Coefficient\n",
      "     great    21.036027\n",
      "      best    17.997579\n",
      " delicious    17.410540\n",
      "   perfect    14.693455\n",
      "     loves    13.936261\n",
      "      love    13.076281\n",
      " excellent    12.995694\n",
      "      good    11.728772\n",
      " wonderful    11.569809\n",
      "  favorite    10.905715\n",
      "      nice    10.868833\n",
      "   amazing    10.090181\n",
      "   awesome     9.559194\n",
      "     happy     9.089360\n",
      "   pleased     9.084099\n",
      "      easy     8.889426\n",
      "    highly     8.651454\n",
      "     yummy     8.569536\n",
      "      glad     8.535481\n",
      "     tasty     8.434224\n",
      "\n",
      "-Top 20 negative-\n",
      "           Word  Coefficient\n",
      "           yuck    -6.979353\n",
      "    waste money    -7.010436\n",
      "          nasty    -7.032859\n",
      "         refund    -7.099395\n",
      "     won buying    -7.142037\n",
      "           poor    -7.229311\n",
      "          waste    -7.318804\n",
      "            rip    -7.356760\n",
      "          gross    -7.589036\n",
      "          sorry    -7.683861\n",
      "          maybe    -7.869723\n",
      "         hoping    -7.971569\n",
      "      tasteless    -8.253568\n",
      "          money    -8.298457\n",
      "          worse    -8.303553\n",
      "     disgusting    -8.670314\n",
      "        thought    -8.692102\n",
      "          bland    -9.082778\n",
      "          threw    -9.369700\n",
      "           weak   -10.032395\n",
      "          stale   -10.096973\n",
      "         return   -10.107389\n",
      " disappointment   -10.767478\n",
      "  unfortunately   -10.802944\n",
      "       horrible   -11.499723\n",
      "          awful   -12.268716\n",
      "       terrible   -13.181881\n",
      "  disappointing   -13.474286\n",
      "   disappointed   -14.648707\n",
      "          worst   -15.504999\n",
      "-0.0009519999998701678\n"
     ]
    },
    {
     "data": {
      "image/png": "[encoded data removed]",
      "text/plain": [
       "<Figure size 432x288 with 2 Axes>"
      ]
     },
     "metadata": {
      "needs_background": "light"
     },
     "output_type": "display_data"
    }
   ],
   "source": [
    "from sklearn.linear_model import LogisticRegression\n",
    "start = timeit.timeit()\n",
    "logmodel = LogisticRegression()\n",
    "prediction=model_fit(logmodel)\n",
    "end = timeit.timeit()\n",
    "print(end - start)"
   ]
  },
  {
   "cell_type": "markdown",
   "metadata": {},
   "source": [
    "# Visualization using bokeh"
   ]
  },
  {
   "cell_type": "code",
   "execution_count": 35,
   "metadata": {},
   "outputs": [],
   "source": [
    "amazon_data['Time'] = pd.to_datetime(amazon_data['Time'], unit='s')"
   ]
  },
  {
   "cell_type": "code",
   "execution_count": 36,
   "metadata": {},
   "outputs": [],
   "source": [
    "amazon_data['Helpfulness'] = amazon_data['HelpfulnessNumerator']/amazon_data['HelpfulnessDenominator']"
   ]
  },
  {
   "cell_type": "code",
   "execution_count": 37,
   "metadata": {},
   "outputs": [],
   "source": [
    "amazon_data = amazon_data.drop(['HelpfulnessNumerator','HelpfulnessDenominator'], axis=1)"
   ]
  },
  {
   "cell_type": "code",
   "execution_count": 38,
   "metadata": {},
   "outputs": [],
   "source": [
    "amazon_data[\"Helpfulness\"] = amazon_data[\"Helpfulness\"].fillna(0)"
   ]
  },
  {
   "cell_type": "code",
   "execution_count": 39,
   "metadata": {},
   "outputs": [],
   "source": [
    "top_products = amazon_data['ProductId'].value_counts().head(20).rename_axis('Product_Id').reset_index(name='Total Reviews')"
   ]
  },
  {
   "cell_type": "code",
   "execution_count": 40,
   "metadata": {},
   "outputs": [],
   "source": [
    "i1 = amazon_data.set_index('ProductId').index\n",
    "i2 = top_products.set_index('Product_Id').index"
   ]
  },
  {
   "cell_type": "code",
   "execution_count": 41,
   "metadata": {},
   "outputs": [],
   "source": [
    "top_products = pd.merge(top_products, \n",
    "                        amazon_data[i1.isin(i2)].groupby('ProductId')['Score'].mean().rename_axis('Product_Id').reset_index(name='Avg_score'),\n",
    "                        on=\"Product_Id\")"
   ]
  },
  {
   "cell_type": "code",
   "execution_count": null,
   "metadata": {},
   "outputs": [],
   "source": [
    "top_products # these are top 20 reviewed products in our dataset"
   ]
  },
  {
   "cell_type": "code",
   "execution_count": 43,
   "metadata": {},
   "outputs": [],
   "source": [
    "#count of top 20 reviewed products\n",
    "p = figure(x_range=top_products['Product_Id'].tolist(),x_axis_label='Product Id',y_axis_label='Total Reviews' , plot_height=400, plot_width=700, title=\"Top Reviewed products\",\n",
    "           toolbar_location=None,y_range=(0, 1000))\n",
    "\n",
    "p.vbar(x=top_products['Product_Id'].tolist(), top=top_products['Total Reviews'].tolist(), width=0.5)\n",
    "\n",
    "\n",
    "p.xaxis.major_label_orientation = \"vertical\"\n",
    "\n",
    "\n",
    "#p.xgrid.grid_line_color = None\n",
    "p.y_range.start = 0\n",
    "\n",
    "show(p)"
   ]
  },
  {
   "cell_type": "code",
   "execution_count": 44,
   "metadata": {},
   "outputs": [],
   "source": [
    "top_users = amazon_data['UserId'].value_counts().head(20).rename_axis('UserId').reset_index(name='Total_Reviews')"
   ]
  },
  {
   "cell_type": "code",
   "execution_count": 45,
   "metadata": {},
   "outputs": [],
   "source": [
    "i3 = top_users.set_index('UserId').index\n",
    "i4 = amazon_data.set_index('UserId').index"
   ]
  },
  {
   "cell_type": "code",
   "execution_count": 46,
   "metadata": {},
   "outputs": [],
   "source": [
    "top_users = pd.merge(top_users, \n",
    "                     amazon_data[i4.isin(i3)].groupby('UserId')['Helpfulness'].mean().rename_axis('UserId').reset_index(name='Avg_Helpfulness_percentage'), \n",
    "                     on=\"UserId\")"
   ]
  },
  {
   "cell_type": "code",
   "execution_count": 47,
   "metadata": {},
   "outputs": [],
   "source": [
    "top_users['Avg_Helpfulness_percentage'] = 100 * top_users['Avg_Helpfulness_percentage'] "
   ]
  },
  {
   "cell_type": "code",
   "execution_count": null,
   "metadata": {},
   "outputs": [],
   "source": [
    "top_users.head()"
   ]
  },
  {
   "cell_type": "code",
   "execution_count": 49,
   "metadata": {},
   "outputs": [],
   "source": [
    "#count of top 20 users \n",
    "p = figure(x_range=top_users['UserId'].tolist(), plot_height=400, plot_width=700,x_axis_label='User Id',y_axis_label='Total Reviews' ,title=\"Users with Maximum numbers of reviews given\",\n",
    "           toolbar_location=None,y_range=(0, 500))\n",
    "\n",
    "p.vbar(x=top_users['UserId'].tolist(), top=top_users['Total_Reviews'].tolist(), width=0.5)\n",
    "p.line(top_users['UserId'].tolist(),top_users['Avg_Helpfulness_percentage'].tolist(),color='red',line_width=1)\n",
    "\n",
    "p.xaxis.major_label_orientation = \"vertical\"\n",
    "\n",
    "\n",
    "#p.xgrid.grid_line_color = None\n",
    "p.y_range.start = 0\n",
    "\n",
    "show(p)"
   ]
  },
  {
   "cell_type": "code",
   "execution_count": null,
   "metadata": {},
   "outputs": [],
   "source": []
  },
  {
   "cell_type": "code",
   "execution_count": null,
   "metadata": {},
   "outputs": [],
   "source": []
  },
  {
   "cell_type": "code",
   "execution_count": null,
   "metadata": {},
   "outputs": [],
   "source": []
  },
  {
   "cell_type": "code",
   "execution_count": null,
   "metadata": {},
   "outputs": [],
   "source": []
  }
 ],
 "metadata": {
  "kernelspec": {
   "display_name": "Python 3",
   "language": "python",
   "name": "python3"
  },
  "language_info": {
   "codemirror_mode": {
    "name": "ipython",
    "version": 3
   },
   "file_extension": ".py",
   "mimetype": "text/x-python",
   "name": "python",
   "nbconvert_exporter": "python",
   "pygments_lexer": "ipython3",
   "version": "3.7.1"
  }
 },
 "nbformat": 4,
 "nbformat_minor": 2
}
